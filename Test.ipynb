{
 "cells": [
  {
   "cell_type": "markdown",
   "metadata": {},
   "source": [
    "# Import main calculation function\n"
   ]
  },
  {
   "cell_type": "code",
   "execution_count": 1,
   "metadata": {},
   "outputs": [
    {
     "name": "stderr",
     "output_type": "stream",
     "text": [
      "Reading table/s ['Aluminium', 'Antimony', 'Arsenic', 'Asbestos', 'Baryte', 'Bauxite', 'Bentonite', 'Beryllium (conc.)', 'Bismuth', 'Boron Minerals', 'Cadmium', 'Chromium (Cr2O3)', 'Cobalt', 'Coking Coal', 'Copper', 'Diamonds (Gem)', 'Diamonds (Ind)', 'Diatomite', 'Feldspar', 'Fluorspar', 'Gallium', 'Germanium', 'Gold', 'Graphite', 'Gypsum and Anhydrite', 'Indium', 'Iron (Fe)', 'Kaolin (China-Clay)', 'Lead', 'Lignite', 'Lithium (Li2O)', 'logging', 'Magnesite', 'Manganese', 'Mercury', 'Molybdenum', 'Natural Gas', 'Nickel', 'Niobium (Nb2O5)', 'Oil Sands (part of Petroleum)', 'Oil Shales', 'Palladium', 'Perlite', 'Petroleum', 'Phosphate Rock (P2O5)', 'Platinum', 'Potash (K2O)', 'Rare Earths (REO)', 'Rhenium', 'Rhodium', 'Salt (rock, brines, marine)', 'Selenium', 'Silver', 'Steam Coal', 'Sulfur (elementar & industrial)', 'Talc, Steatite & Pyrophyllite', 'Tantalum (Ta2O5)', 'Tellurium', 'Tin', 'Titanium (TiO2)', 'Tungsten (W)', 'Uranium (U3O8)', 'Vanadium (V)', 'Vermiculite', 'Zinc', 'Zircon', 'Country_ISO', 'HS Code Map'] from the library database C:\\Users\\akoyamparamb\\Documents/geopolrisk/databases/world_mining_data.db.: 100%|██████████| 68/68 [00:00<00:00, 1155.63it/s]\n",
      "Reading table/s ['Normalized'] from the library database C:\\Users\\akoyamparamb\\Documents/geopolrisk/databases/wgi.db.: 100%|██████████| 1/1 [00:00<00:00, 445.16it/s]\n",
      "Reading table/s ['baci_trade'] from the library database C:\\Users\\akoyamparamb\\Documents/geopolrisk/databases/baci.db.: 100%|██████████| 1/1 [00:48<00:00, 48.54s/it]\n"
     ]
    }
   ],
   "source": [
    "from geopolrisk.assessment.main import gprs_calc"
   ]
  },
  {
   "cell_type": "markdown",
   "metadata": {},
   "source": [
    "## Prepare the lists\n"
   ]
  },
  {
   "cell_type": "code",
   "execution_count": 2,
   "metadata": {},
   "outputs": [],
   "source": [
    "from geopolrisk.assessment.utils import default_rmlist\n",
    "\n",
    "ListofMetals = default_rmlist()\n",
    "\n",
    "ListofCountries = [156, 251, 842, \"EU\"]\n",
    "\n",
    "ListofYear = [2022]"
   ]
  },
  {
   "cell_type": "code",
   "execution_count": 9,
   "metadata": {},
   "outputs": [
    {
     "name": "stderr",
     "output_type": "stream",
     "text": [
      "Calculating the GeoPolRisk:   0%|          | 0/212 [00:00<?, ?it/s]--- Logging error ---\n",
      "Traceback (most recent call last):\n",
      "  File \"c:\\Users\\akoyamparamb\\Documents\\GitHub\\geopolrisk-py\\geopolrisk\\assessment\\main.py\", line 97, in gprs_calc\n",
      "    Numerator, TotalTrade, Price = importrisk(\n",
      "                                   ^^^^^^^^^^^\n",
      "  File \"c:\\Users\\akoyamparamb\\Documents\\GitHub\\geopolrisk-py\\geopolrisk\\assessment\\core.py\", line 126, in importrisk\n",
      "    return Numerator, TotalTrade, Price\n",
      "           ^^^^^^^^^\n",
      "UnboundLocalError: cannot access local variable 'Numerator' where it is not associated with a value\n",
      "\n",
      "During handling of the above exception, another exception occurred:\n",
      "\n",
      "Traceback (most recent call last):\n",
      "  File \"c:\\Users\\akoyamparamb\\AppData\\Local\\anaconda3\\Lib\\logging\\__init__.py\", line 1110, in emit\n",
      "    msg = self.format(record)\n",
      "          ^^^^^^^^^^^^^^^^^^^\n",
      "  File \"c:\\Users\\akoyamparamb\\AppData\\Local\\anaconda3\\Lib\\logging\\__init__.py\", line 953, in format\n",
      "    return fmt.format(record)\n",
      "           ^^^^^^^^^^^^^^^^^^\n",
      "  File \"c:\\Users\\akoyamparamb\\AppData\\Local\\anaconda3\\Lib\\logging\\__init__.py\", line 687, in format\n",
      "    record.message = record.getMessage()\n",
      "                     ^^^^^^^^^^^^^^^^^^^\n",
      "  File \"c:\\Users\\akoyamparamb\\AppData\\Local\\anaconda3\\Lib\\logging\\__init__.py\", line 377, in getMessage\n",
      "    msg = msg % self.args\n",
      "          ~~~~^~~~~~~~~~~\n",
      "TypeError: not all arguments converted during string formatting\n",
      "Call stack:\n",
      "  File \"<frozen runpy>\", line 198, in _run_module_as_main\n",
      "  File \"<frozen runpy>\", line 88, in _run_code\n",
      "  File \"c:\\Users\\akoyamparamb\\AppData\\Local\\anaconda3\\Lib\\site-packages\\ipykernel_launcher.py\", line 17, in <module>\n",
      "    app.launch_new_instance()\n",
      "  File \"c:\\Users\\akoyamparamb\\AppData\\Local\\anaconda3\\Lib\\site-packages\\traitlets\\config\\application.py\", line 992, in launch_instance\n",
      "    app.start()\n",
      "  File \"c:\\Users\\akoyamparamb\\AppData\\Local\\anaconda3\\Lib\\site-packages\\ipykernel\\kernelapp.py\", line 736, in start\n",
      "    self.io_loop.start()\n",
      "  File \"c:\\Users\\akoyamparamb\\AppData\\Local\\anaconda3\\Lib\\site-packages\\tornado\\platform\\asyncio.py\", line 195, in start\n",
      "    self.asyncio_loop.run_forever()\n",
      "  File \"c:\\Users\\akoyamparamb\\AppData\\Local\\anaconda3\\Lib\\asyncio\\base_events.py\", line 607, in run_forever\n",
      "    self._run_once()\n",
      "  File \"c:\\Users\\akoyamparamb\\AppData\\Local\\anaconda3\\Lib\\asyncio\\base_events.py\", line 1922, in _run_once\n",
      "    handle._run()\n",
      "  File \"c:\\Users\\akoyamparamb\\AppData\\Local\\anaconda3\\Lib\\asyncio\\events.py\", line 80, in _run\n",
      "    self._context.run(self._callback, *self._args)\n",
      "  File \"c:\\Users\\akoyamparamb\\AppData\\Local\\anaconda3\\Lib\\site-packages\\ipykernel\\kernelbase.py\", line 516, in dispatch_queue\n",
      "    await self.process_one()\n",
      "  File \"c:\\Users\\akoyamparamb\\AppData\\Local\\anaconda3\\Lib\\site-packages\\ipykernel\\kernelbase.py\", line 505, in process_one\n",
      "    await dispatch(*args)\n",
      "  File \"c:\\Users\\akoyamparamb\\AppData\\Local\\anaconda3\\Lib\\site-packages\\ipykernel\\kernelbase.py\", line 412, in dispatch_shell\n",
      "    await result\n",
      "  File \"c:\\Users\\akoyamparamb\\AppData\\Local\\anaconda3\\Lib\\site-packages\\ipykernel\\kernelbase.py\", line 740, in execute_request\n",
      "    reply_content = await reply_content\n",
      "  File \"c:\\Users\\akoyamparamb\\AppData\\Local\\anaconda3\\Lib\\site-packages\\ipykernel\\ipkernel.py\", line 422, in do_execute\n",
      "    res = shell.run_cell(\n",
      "  File \"c:\\Users\\akoyamparamb\\AppData\\Local\\anaconda3\\Lib\\site-packages\\ipykernel\\zmqshell.py\", line 546, in run_cell\n",
      "    return super().run_cell(*args, **kwargs)\n",
      "  File \"c:\\Users\\akoyamparamb\\AppData\\Local\\anaconda3\\Lib\\site-packages\\IPython\\core\\interactiveshell.py\", line 3046, in run_cell\n",
      "    result = self._run_cell(\n",
      "  File \"c:\\Users\\akoyamparamb\\AppData\\Local\\anaconda3\\Lib\\site-packages\\IPython\\core\\interactiveshell.py\", line 3101, in _run_cell\n",
      "    result = runner(coro)\n",
      "  File \"c:\\Users\\akoyamparamb\\AppData\\Local\\anaconda3\\Lib\\site-packages\\IPython\\core\\async_helpers.py\", line 129, in _pseudo_sync_runner\n",
      "    coro.send(None)\n",
      "  File \"c:\\Users\\akoyamparamb\\AppData\\Local\\anaconda3\\Lib\\site-packages\\IPython\\core\\interactiveshell.py\", line 3306, in run_cell_async\n",
      "    has_raised = await self.run_ast_nodes(code_ast.body, cell_name,\n",
      "  File \"c:\\Users\\akoyamparamb\\AppData\\Local\\anaconda3\\Lib\\site-packages\\IPython\\core\\interactiveshell.py\", line 3488, in run_ast_nodes\n",
      "    if await self.run_code(code, result, async_=asy):\n",
      "  File \"c:\\Users\\akoyamparamb\\AppData\\Local\\anaconda3\\Lib\\site-packages\\IPython\\core\\interactiveshell.py\", line 3548, in run_code\n",
      "    exec(code_obj, self.user_global_ns, self.user_ns)\n",
      "  File \"C:\\Users\\akoyamparamb\\AppData\\Local\\Temp\\ipykernel_37144\\1007593563.py\", line 1, in <module>\n",
      "    gprs_calc(ListofYear, ListofCountries, ListofMetals)\n",
      "  File \"c:\\Users\\akoyamparamb\\Documents\\GitHub\\geopolrisk-py\\geopolrisk\\assessment\\main.py\", line 108, in gprs_calc\n",
      "    logging.debug(\"Unknwon exception at \", e)\n",
      "Message: 'Unknwon exception at '\n",
      "Arguments: (UnboundLocalError(\"cannot access local variable 'Numerator' where it is not associated with a value\"),)\n",
      "Calculating the GeoPolRisk:   0%|          | 0/212 [00:16<?, ?it/s]\n"
     ]
    }
   ],
   "source": [
    "gprs_calc(ListofYear, ListofCountries, ListofMetals)"
   ]
  },
  {
   "cell_type": "markdown",
   "metadata": {},
   "source": [
    "# Testing individual functions for the same list\n"
   ]
  },
  {
   "cell_type": "code",
   "execution_count": 3,
   "metadata": {},
   "outputs": [],
   "source": [
    "FirstMetal = ListofMetals[0]\n",
    "FirstCountry = ListofCountries[0]\n",
    "FirstYear = ListofYear[0]"
   ]
  },
  {
   "cell_type": "code",
   "execution_count": 4,
   "metadata": {},
   "outputs": [],
   "source": [
    "from geopolrisk.assessment.utils import mapped_baci\n",
    "\n",
    "data = mapped_baci()"
   ]
  },
  {
   "cell_type": "code",
   "execution_count": null,
   "metadata": {},
   "outputs": [],
   "source": [
    "from geopolrisk.assessment.core import HHI\n",
    "\n",
    "ProductionQuantity, hhi = HHI(\"Aluminium\", 2021, FirstCountry)"
   ]
  },
  {
   "cell_type": "code",
   "execution_count": null,
   "metadata": {},
   "outputs": [],
   "source": [
    "hhi"
   ]
  },
  {
   "cell_type": "code",
   "execution_count": null,
   "metadata": {},
   "outputs": [],
   "source": [
    "FirstYear"
   ]
  },
  {
   "cell_type": "code",
   "execution_count": null,
   "metadata": {},
   "outputs": [],
   "source": [
    "df_query = f\"(period == '{FirstYear}') & (reporterCode == {FirstCountry}) & (rawMaterial == '{FirstMetal}')\"\n",
    "\n",
    "baci_data = data.query(df_query)"
   ]
  },
  {
   "cell_type": "code",
   "execution_count": 11,
   "metadata": {},
   "outputs": [
    {
     "data": {
      "application/vnd.microsoft.datawrangler.viewer.v0+json": {
       "columns": [
        {
         "name": "index",
         "rawType": "int64",
         "type": "integer"
        },
        {
         "name": "period",
         "rawType": "int32",
         "type": "integer"
        },
        {
         "name": "reporterCode",
         "rawType": "int32",
         "type": "integer"
        },
        {
         "name": "reporterDesc",
         "rawType": "object",
         "type": "unknown"
        },
        {
         "name": "reporterISO",
         "rawType": "object",
         "type": "unknown"
        },
        {
         "name": "partnerCode",
         "rawType": "int32",
         "type": "integer"
        },
        {
         "name": "partnerDesc",
         "rawType": "object",
         "type": "unknown"
        },
        {
         "name": "partnerISO",
         "rawType": "object",
         "type": "unknown"
        },
        {
         "name": "rawMaterial",
         "rawType": "object",
         "type": "unknown"
        },
        {
         "name": "cmdCode",
         "rawType": "object",
         "type": "unknown"
        },
        {
         "name": "qty",
         "rawType": "object",
         "type": "unknown"
        },
        {
         "name": "cifvalue",
         "rawType": "float64",
         "type": "float"
        },
        {
         "name": "partnerWGI",
         "rawType": "object",
         "type": "unknown"
        }
       ],
       "conversionMethod": "pd.DataFrame",
       "ref": "f7384d27-9ff5-4905-8692-8162f38662de",
       "rows": [],
       "shape": {
        "columns": 12,
        "rows": 0
       }
      },
      "text/html": [
       "<div>\n",
       "<style scoped>\n",
       "    .dataframe tbody tr th:only-of-type {\n",
       "        vertical-align: middle;\n",
       "    }\n",
       "\n",
       "    .dataframe tbody tr th {\n",
       "        vertical-align: top;\n",
       "    }\n",
       "\n",
       "    .dataframe thead th {\n",
       "        text-align: right;\n",
       "    }\n",
       "</style>\n",
       "<table border=\"1\" class=\"dataframe\">\n",
       "  <thead>\n",
       "    <tr style=\"text-align: right;\">\n",
       "      <th></th>\n",
       "      <th>period</th>\n",
       "      <th>reporterCode</th>\n",
       "      <th>reporterDesc</th>\n",
       "      <th>reporterISO</th>\n",
       "      <th>partnerCode</th>\n",
       "      <th>partnerDesc</th>\n",
       "      <th>partnerISO</th>\n",
       "      <th>rawMaterial</th>\n",
       "      <th>cmdCode</th>\n",
       "      <th>qty</th>\n",
       "      <th>cifvalue</th>\n",
       "      <th>partnerWGI</th>\n",
       "    </tr>\n",
       "  </thead>\n",
       "  <tbody>\n",
       "  </tbody>\n",
       "</table>\n",
       "</div>"
      ],
      "text/plain": [
       "Empty DataFrame\n",
       "Columns: [period, reporterCode, reporterDesc, reporterISO, partnerCode, partnerDesc, partnerISO, rawMaterial, cmdCode, qty, cifvalue, partnerWGI]\n",
       "Index: []"
      ]
     },
     "execution_count": 11,
     "metadata": {},
     "output_type": "execute_result"
    }
   ],
   "source": [
    "baci_data"
   ]
  },
  {
   "cell_type": "code",
   "execution_count": null,
   "metadata": {},
   "outputs": [],
   "source": [
    "from geopolrisk.assessment.core import importrisk\n",
    "\n",
    "Numerator, TotalTrade, Price = importrisk(\n",
    "    FirstMetal, FirstYear, [FirstCountry]\n",
    ")  # Country has to be in a list"
   ]
  },
  {
   "cell_type": "code",
   "execution_count": null,
   "metadata": {},
   "outputs": [],
   "source": [
    "from geopolrisk.assessment.core import GeoPolRisk\n",
    "\n",
    "\n",
    "Values = GeoPolRisk(Numerator, TotalTrade, Price, ProductionQuantity, hhi)"
   ]
  },
  {
   "cell_type": "markdown",
   "metadata": {},
   "source": [
    "# Testing company level functions using same data as above\n"
   ]
  },
  {
   "cell_type": "code",
   "execution_count": null,
   "metadata": {},
   "outputs": [],
   "source": [
    "from geopolrisk.assessment.core import importrisk_company\n",
    "\n",
    "Numerator_C, TotalTrade_C, Price_C = importrisk_company(FirstMetal, FirstYear)\n",
    "Values_c = GeoPolRisk(\n",
    "    Numerator_C, TotalTrade_C, Price_C, ProductionQuantity * 1000, hhi\n",
    ")"
   ]
  },
  {
   "cell_type": "markdown",
   "metadata": {},
   "source": [
    "# Testing Regional Data\n"
   ]
  },
  {
   "cell_type": "code",
   "execution_count": null,
   "metadata": {},
   "outputs": [],
   "source": [
    "NewRegions = {\n",
    "    \"EFTA\": [\"Iceland\", \"Norway\", \"Switzerland\"],\n",
    "    \"NAFTA\": [\"Canada\", \"Mexico\", \"USA\"],\n",
    "}  # Liechtenstein has a customs union with Switzerland whose trade is not reported by UN Comtrade"
   ]
  },
  {
   "cell_type": "code",
   "execution_count": null,
   "metadata": {},
   "outputs": [],
   "source": [
    "from geopolrisk.assessment.utils import regions\n",
    "\n",
    "regions(NewRegions)"
   ]
  },
  {
   "cell_type": "code",
   "execution_count": null,
   "metadata": {
    "scrolled": true
   },
   "outputs": [],
   "source": [
    "from geopolrisk.assessment.database import databases\n",
    "\n",
    "databases.regionslist"
   ]
  },
  {
   "cell_type": "code",
   "execution_count": null,
   "metadata": {},
   "outputs": [],
   "source": [
    "databases.regional"
   ]
  },
  {
   "cell_type": "markdown",
   "metadata": {},
   "source": [
    "## Main Function to run for the regional assessment\n"
   ]
  },
  {
   "cell_type": "code",
   "execution_count": null,
   "metadata": {
    "scrolled": false
   },
   "outputs": [],
   "source": [
    "ListofMetals = [\n",
    "    260400,\n",
    "    261000,\n",
    "    260300,\n",
    "    283691,\n",
    "    282200,\n",
    "]\n",
    "ListofCountries = [\n",
    "    36,\n",
    "    124,\n",
    "    251,\n",
    "    276,\n",
    "    392,\n",
    "    826,\n",
    "    842,\n",
    "    \"EU\",\n",
    "    \"EFTA\",\n",
    "    \"NAFTA\",\n",
    "]  # EU is already defined in the library\n",
    "ListofYear = [2018, 2019, 2020]\n",
    "gprs_calc(ListofYear, ListofCountries, ListofMetals)"
   ]
  },
  {
   "cell_type": "code",
   "execution_count": null,
   "metadata": {},
   "outputs": [],
   "source": []
  }
 ],
 "metadata": {
  "kernelspec": {
   "display_name": "base",
   "language": "python",
   "name": "python3"
  },
  "language_info": {
   "codemirror_mode": {
    "name": "ipython",
    "version": 3
   },
   "file_extension": ".py",
   "mimetype": "text/x-python",
   "name": "python",
   "nbconvert_exporter": "python",
   "pygments_lexer": "ipython3",
   "version": "3.11.5"
  }
 },
 "nbformat": 4,
 "nbformat_minor": 2
}
