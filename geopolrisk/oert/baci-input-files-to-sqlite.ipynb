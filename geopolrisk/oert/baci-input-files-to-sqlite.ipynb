{
 "cells": [
  {
   "cell_type": "markdown",
   "metadata": {},
   "source": [
    "# baci csv-files to sqlite-db \"baci.db\""
   ]
  },
  {
   "cell_type": "code",
   "execution_count": 2,
   "metadata": {},
   "outputs": [
    {
     "name": "stdout",
     "output_type": "stream",
     "text": [
      "c:\\datenlocal\\projects\\anish_bordeaux\\git\\geopolrisk-py\\geopolrisk\\oert\n",
      "c:\\datenlocal\\projects\\anish_bordeaux\\git\\geopolrisk-py\\geopolrisk\\oert/input-files\n",
      "c:\\datenlocal\\projects\\anish_bordeaux\\git\\geopolrisk-py\\geopolrisk\\oert/output-files/baci\n",
      "c:\\datenlocal\\projects\\anish_bordeaux\\git\\geopolrisk-py\\geopolrisk\\oert/input-files/baci\n",
      "c:\\datenlocal\\projects\\anish_bordeaux\\git\\geopolrisk-py\\geopolrisk\\oert/input-files/Library_db/Resources_Library.csv\n",
      "c:\\datenlocal\\projects\\anish_bordeaux\\git\\geopolrisk-py\\geopolrisk\\oert/output-files/baci/baci.db\n"
     ]
    }
   ],
   "source": [
    "import os\n",
    "import csv\n",
    "import sqlite3\n",
    "\n",
    "# Pfad zum Verzeichnis mit den CSV-Dateien\n",
    "#current_dir = os.getcwd()\n",
    "current_dir = os.path.abspath(\".\")\n",
    "input_dir = f\"{current_dir}/input-files\"\n",
    "output_dir = f\"{current_dir}/output-files/baci\"\n",
    "\n",
    "csv_dir = f\"{input_dir}/baci\"\n",
    "resources_csv = f\"{csv_dir}/Resources_Library.csv\"\n",
    "output_db = f\"{output_dir}/baci.db\"\n",
    "\n",
    "print(current_dir)\n",
    "print(input_dir)\n",
    "print(output_dir)\n",
    "\n",
    "print(csv_dir)\n",
    "print(resources_csv)\n",
    "print(output_db)"
   ]
  },
  {
   "cell_type": "code",
   "execution_count": 4,
   "metadata": {},
   "outputs": [],
   "source": [
    "# create sqlite-database\n",
    "conn = sqlite3.connect(output_db)\n",
    "conn.close()"
   ]
  },
  {
   "cell_type": "code",
   "execution_count": 5,
   "metadata": {},
   "outputs": [
    {
     "name": "stdout",
     "output_type": "stream",
     "text": [
      "238\n"
     ]
    }
   ],
   "source": [
    "# import country-code csv-file\n",
    "\n",
    "# create or open sqlite-database\n",
    "conn = sqlite3.connect(output_db)\n",
    "c = conn.cursor()\n",
    "\n",
    "filename = f\"country_codes_V202401b.csv\"\n",
    "filepath = f\"{csv_dir}/{filename}\"\n",
    "\n",
    "# open csv-file\n",
    "with open(filepath, \"r\") as csvfile:\n",
    "    csvreader = csv.reader(csvfile)\n",
    "    # skip first row = colum names\n",
    "    columns = next(csvreader)\n",
    "    # create table with colum names from csv-file\n",
    "    c.execute(f\"CREATE TABLE IF NOT EXISTS {filename[:-4]} ({', '.join([f'{col} TEXT' for col in columns])})\")\n",
    "    # import csv-file in table\n",
    "    for row in csvreader:\n",
    "        # TODO - here filter only the needed rows\n",
    "        placeholders = \", \".join([\"?\"] * len(row))\n",
    "        c.execute(f\"INSERT INTO {filename[:-4]} VALUES ({placeholders})\", row)\n",
    "\n",
    "# who changes (number of table rows...)\n",
    "print(conn.total_changes)\n",
    "\n",
    "# commit changes and close db connection\n",
    "conn.commit()\n",
    "conn.close()"
   ]
  },
  {
   "cell_type": "code",
   "execution_count": 6,
   "metadata": {},
   "outputs": [
    {
     "name": "stdout",
     "output_type": "stream",
     "text": [
      "5022\n"
     ]
    }
   ],
   "source": [
    "# import product-code csv-file\n",
    "\n",
    "# create or open sqlite-database\n",
    "conn = sqlite3.connect(output_db)\n",
    "c = conn.cursor()\n",
    "\n",
    "filename = f\"product_codes_HS92_V202401b.csv\"\n",
    "filepath = f\"{csv_dir}/{filename}\"\n",
    "\n",
    "# open csv-file\n",
    "with open(filepath, \"r\") as csvfile:\n",
    "    csvreader = csv.reader(csvfile)\n",
    "    # skip first row = colum names\n",
    "    columns = next(csvreader)\n",
    "    # create table with colum names from csv-file\n",
    "    c.execute(f\"CREATE TABLE IF NOT EXISTS {filename[:-4]} ({', '.join([f'{col} TEXT' for col in columns])})\")\n",
    "    # import csv-file in table\n",
    "    for row in csvreader:\n",
    "        placeholders = \", \".join([\"?\"] * len(row))\n",
    "        c.execute(f\"INSERT INTO {filename[:-4]} VALUES ({placeholders})\", row)\n",
    "\n",
    "# who changes (number of table rows...)\n",
    "print(conn.total_changes)\n",
    "\n",
    "# commit changes and close db connection\n",
    "conn.commit()\n",
    "conn.close()"
   ]
  },
  {
   "cell_type": "code",
   "execution_count": 7,
   "metadata": {},
   "outputs": [
    {
     "name": "stdout",
     "output_type": "stream",
     "text": [
      "['811291', '261590', '250410', '252400', '260111', '260200', '260300', '260400', '260600', '260700', '260800', '261000', '261310', '261400', '261590', '270111', '270112', '270112', '270900', '271111', '282200', '284610', '284690', '711011', '810710', '811291', '251110', '251910', '252010', '252910', '252922', '260900', '261100', '261210', '261510', '261590', '261610', '710811', '261710', '280450', '280480', '280490', '280540', '282560', '283691', '711021', '711031', '811291', '280450']\n"
     ]
    }
   ],
   "source": [
    "# read products to import\n",
    "with open(resources_csv, 'r') as csvfile:\n",
    "    csvreader = csv.reader(csvfile)\n",
    "     # skip first row = colum names\n",
    "    columns = next(csvreader)\n",
    "    # product list\n",
    "    products = []\n",
    "    for zeile in csvreader:\n",
    "        products.append(zeile[1])\n",
    "\n",
    "print(products)"
   ]
  },
  {
   "cell_type": "code",
   "execution_count": 8,
   "metadata": {},
   "outputs": [
    {
     "name": "stdout",
     "output_type": "stream",
     "text": [
      "file 'BACI_HS92_Y1995_V202401b.csv\n",
      "file 'BACI_HS92_Y1996_V202401b.csv\n",
      "file 'BACI_HS92_Y1997_V202401b.csv\n",
      "file 'BACI_HS92_Y1998_V202401b.csv\n",
      "file 'BACI_HS92_Y1999_V202401b.csv\n",
      "file 'BACI_HS92_Y2000_V202401b.csv\n",
      "file 'BACI_HS92_Y2001_V202401b.csv\n",
      "file 'BACI_HS92_Y2002_V202401b.csv\n",
      "file 'BACI_HS92_Y2003_V202401b.csv\n",
      "file 'BACI_HS92_Y2004_V202401b.csv\n",
      "file 'BACI_HS92_Y2005_V202401b.csv\n",
      "file 'BACI_HS92_Y2006_V202401b.csv\n",
      "file 'BACI_HS92_Y2007_V202401b.csv\n",
      "file 'BACI_HS92_Y2008_V202401b.csv\n",
      "file 'BACI_HS92_Y2009_V202401b.csv\n",
      "file 'BACI_HS92_Y2010_V202401b.csv\n",
      "file 'BACI_HS92_Y2011_V202401b.csv\n",
      "file 'BACI_HS92_Y2012_V202401b.csv\n",
      "file 'BACI_HS92_Y2013_V202401b.csv\n",
      "file 'BACI_HS92_Y2014_V202401b.csv\n",
      "file 'BACI_HS92_Y2015_V202401b.csv\n",
      "file 'BACI_HS92_Y2016_V202401b.csv\n",
      "file 'BACI_HS92_Y2017_V202401b.csv\n",
      "file 'BACI_HS92_Y2018_V202401b.csv\n",
      "file 'BACI_HS92_Y2019_V202401b.csv\n",
      "file 'BACI_HS92_Y2020_V202401b.csv\n",
      "file 'BACI_HS92_Y2021_V202401b.csv\n",
      "file 'BACI_HS92_Y2022_V202401b.csv\n"
     ]
    }
   ],
   "source": [
    "# print csv-files to be import\n",
    "for filename in os.listdir(csv_dir):\n",
    "    if filename.startswith(\"BACI_\") and filename.endswith(\".csv\"):\n",
    "        print(f\"file '{filename}\")"
   ]
  },
  {
   "cell_type": "code",
   "execution_count": 9,
   "metadata": {},
   "outputs": [
    {
     "name": "stdout",
     "output_type": "stream",
     "text": [
      "import 'BACI_HS92_Y1995_V202401b.csv ...\n",
      "import 'BACI_HS92_Y1996_V202401b.csv ...\n",
      "import 'BACI_HS92_Y1997_V202401b.csv ...\n",
      "import 'BACI_HS92_Y1998_V202401b.csv ...\n",
      "import 'BACI_HS92_Y1999_V202401b.csv ...\n",
      "import 'BACI_HS92_Y2000_V202401b.csv ...\n",
      "import 'BACI_HS92_Y2001_V202401b.csv ...\n",
      "import 'BACI_HS92_Y2002_V202401b.csv ...\n",
      "import 'BACI_HS92_Y2003_V202401b.csv ...\n",
      "import 'BACI_HS92_Y2004_V202401b.csv ...\n",
      "import 'BACI_HS92_Y2005_V202401b.csv ...\n",
      "import 'BACI_HS92_Y2006_V202401b.csv ...\n",
      "import 'BACI_HS92_Y2007_V202401b.csv ...\n",
      "import 'BACI_HS92_Y2008_V202401b.csv ...\n",
      "import 'BACI_HS92_Y2009_V202401b.csv ...\n",
      "import 'BACI_HS92_Y2010_V202401b.csv ...\n",
      "import 'BACI_HS92_Y2011_V202401b.csv ...\n",
      "import 'BACI_HS92_Y2012_V202401b.csv ...\n",
      "import 'BACI_HS92_Y2013_V202401b.csv ...\n",
      "import 'BACI_HS92_Y2014_V202401b.csv ...\n",
      "import 'BACI_HS92_Y2015_V202401b.csv ...\n",
      "import 'BACI_HS92_Y2016_V202401b.csv ...\n",
      "import 'BACI_HS92_Y2017_V202401b.csv ...\n",
      "import 'BACI_HS92_Y2018_V202401b.csv ...\n",
      "import 'BACI_HS92_Y2019_V202401b.csv ...\n",
      "import 'BACI_HS92_Y2020_V202401b.csv ...\n",
      "import 'BACI_HS92_Y2021_V202401b.csv ...\n",
      "import 'BACI_HS92_Y2022_V202401b.csv ...\n",
      "594887\n"
     ]
    }
   ],
   "source": [
    "# create or open sqlite-database\n",
    "conn = sqlite3.connect(output_db)\n",
    "c = conn.cursor()\n",
    "\n",
    "# import all baci-files\n",
    "for filename in os.listdir(csv_dir):\n",
    "    if filename.startswith(\"BACI_\") and filename.endswith(\".csv\"):\n",
    "        print(f\"import '{filename} ...\")\n",
    "        # open csv-file\n",
    "        with open(os.path.join(csv_dir, filename), \"r\") as csvfile:\n",
    "            csvreader = csv.reader(csvfile)\n",
    "            # skip first row = colum names\n",
    "            columns = next(csvreader)\n",
    "            # create table with colum names from csv-file\n",
    "            c.execute(f\"CREATE TABLE IF NOT EXISTS baci_trade ({', '.join([f'{col} TEXT' for col in columns])})\")\n",
    "            # import csv-file in table\n",
    "            for row in csvreader:\n",
    "                # only import products that are listed in the csv file (products) \n",
    "                if row[3] in products:\n",
    "                    placeholders = \", \".join([\"?\"] * len(row))\n",
    "                    c.execute(f\"INSERT INTO BACI_HS07_ALL_V202401b VALUES ({placeholders})\", row)\n",
    "\n",
    "# who changes (number of table rows...)\n",
    "print(conn.total_changes)\n",
    "\n",
    "# commit changes and close db connection\n",
    "conn.commit()\n",
    "conn.close()"
   ]
  }
 ],
 "metadata": {
  "kernelspec": {
   "display_name": "geopolrisk-py_env",
   "language": "python",
   "name": "python3"
  },
  "language_info": {
   "codemirror_mode": {
    "name": "ipython",
    "version": 3
   },
   "file_extension": ".py",
   "mimetype": "text/x-python",
   "name": "python",
   "nbconvert_exporter": "python",
   "pygments_lexer": "ipython3",
   "version": "3.11.9"
  }
 },
 "nbformat": 4,
 "nbformat_minor": 2
}
