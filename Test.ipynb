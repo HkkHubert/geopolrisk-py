{
 "cells": [
  {
   "cell_type": "markdown",
   "metadata": {},
   "source": [
    "# Import main calculation function\n"
   ]
  },
  {
   "cell_type": "code",
   "execution_count": 2,
   "metadata": {},
   "outputs": [],
   "source": [
    "from geopolrisk.assessment.main import gprs_calc"
   ]
  },
  {
   "cell_type": "markdown",
   "metadata": {},
   "source": [
    "## Prepare the lists\n"
   ]
  },
  {
   "cell_type": "code",
   "execution_count": 3,
   "metadata": {},
   "outputs": [],
   "source": [
    "from geopolrisk.assessment.utils import default_rmlist\n",
    "\n",
    "ListofMetals = default_rmlist()\n",
    "\n",
    "ListofCountries = [156, 251, 842, \"EU\"]\n",
    "\n",
    "ListofYear = [2022]"
   ]
  },
  {
   "cell_type": "code",
   "execution_count": 4,
   "metadata": {},
   "outputs": [
    {
     "name": "stderr",
     "output_type": "stream",
     "text": [
      "Calculating the GeoPolRisk: 100%|██████████| 212/212 [00:58<00:00,  3.63it/s]\n"
     ]
    }
   ],
   "source": [
    "gprs_calc(ListofYear, ListofCountries, ListofMetals)"
   ]
  },
  {
   "cell_type": "markdown",
   "metadata": {},
   "source": [
    "# Testing individual functions for the same list\n"
   ]
  },
  {
   "cell_type": "code",
   "execution_count": 3,
   "metadata": {},
   "outputs": [],
   "source": [
    "FirstMetal = ListofMetals[0]\n",
    "FirstCountry = ListofCountries[0]\n",
    "FirstYear = ListofYear[0]"
   ]
  },
  {
   "cell_type": "code",
   "execution_count": 4,
   "metadata": {},
   "outputs": [],
   "source": [
    "from geopolrisk.assessment.utils import mapped_baci\n",
    "\n",
    "data = mapped_baci()"
   ]
  },
  {
   "cell_type": "code",
   "execution_count": null,
   "metadata": {},
   "outputs": [],
   "source": [
    "from geopolrisk.assessment.core import HHI\n",
    "\n",
    "ProductionQuantity, hhi = HHI(\"Aluminium\", 2021, FirstCountry)"
   ]
  },
  {
   "cell_type": "code",
   "execution_count": null,
   "metadata": {},
   "outputs": [],
   "source": [
    "hhi"
   ]
  },
  {
   "cell_type": "code",
   "execution_count": null,
   "metadata": {},
   "outputs": [],
   "source": [
    "FirstYear"
   ]
  },
  {
   "cell_type": "code",
   "execution_count": null,
   "metadata": {},
   "outputs": [],
   "source": [
    "df_query = f\"(period == '{FirstYear}') & (reporterCode == {FirstCountry}) & (rawMaterial == '{FirstMetal}')\"\n",
    "\n",
    "baci_data = data.query(df_query)"
   ]
  },
  {
   "cell_type": "code",
   "execution_count": 11,
   "metadata": {},
   "outputs": [
    {
     "data": {
      "application/vnd.microsoft.datawrangler.viewer.v0+json": {
       "columns": [
        {
         "name": "index",
         "rawType": "int64",
         "type": "integer"
        },
        {
         "name": "period",
         "rawType": "int32",
         "type": "integer"
        },
        {
         "name": "reporterCode",
         "rawType": "int32",
         "type": "integer"
        },
        {
         "name": "reporterDesc",
         "rawType": "object",
         "type": "unknown"
        },
        {
         "name": "reporterISO",
         "rawType": "object",
         "type": "unknown"
        },
        {
         "name": "partnerCode",
         "rawType": "int32",
         "type": "integer"
        },
        {
         "name": "partnerDesc",
         "rawType": "object",
         "type": "unknown"
        },
        {
         "name": "partnerISO",
         "rawType": "object",
         "type": "unknown"
        },
        {
         "name": "rawMaterial",
         "rawType": "object",
         "type": "unknown"
        },
        {
         "name": "cmdCode",
         "rawType": "object",
         "type": "unknown"
        },
        {
         "name": "qty",
         "rawType": "object",
         "type": "unknown"
        },
        {
         "name": "cifvalue",
         "rawType": "float64",
         "type": "float"
        },
        {
         "name": "partnerWGI",
         "rawType": "object",
         "type": "unknown"
        }
       ],
       "conversionMethod": "pd.DataFrame",
       "ref": "f7384d27-9ff5-4905-8692-8162f38662de",
       "rows": [],
       "shape": {
        "columns": 12,
        "rows": 0
       }
      },
      "text/html": [
       "<div>\n",
       "<style scoped>\n",
       "    .dataframe tbody tr th:only-of-type {\n",
       "        vertical-align: middle;\n",
       "    }\n",
       "\n",
       "    .dataframe tbody tr th {\n",
       "        vertical-align: top;\n",
       "    }\n",
       "\n",
       "    .dataframe thead th {\n",
       "        text-align: right;\n",
       "    }\n",
       "</style>\n",
       "<table border=\"1\" class=\"dataframe\">\n",
       "  <thead>\n",
       "    <tr style=\"text-align: right;\">\n",
       "      <th></th>\n",
       "      <th>period</th>\n",
       "      <th>reporterCode</th>\n",
       "      <th>reporterDesc</th>\n",
       "      <th>reporterISO</th>\n",
       "      <th>partnerCode</th>\n",
       "      <th>partnerDesc</th>\n",
       "      <th>partnerISO</th>\n",
       "      <th>rawMaterial</th>\n",
       "      <th>cmdCode</th>\n",
       "      <th>qty</th>\n",
       "      <th>cifvalue</th>\n",
       "      <th>partnerWGI</th>\n",
       "    </tr>\n",
       "  </thead>\n",
       "  <tbody>\n",
       "  </tbody>\n",
       "</table>\n",
       "</div>"
      ],
      "text/plain": [
       "Empty DataFrame\n",
       "Columns: [period, reporterCode, reporterDesc, reporterISO, partnerCode, partnerDesc, partnerISO, rawMaterial, cmdCode, qty, cifvalue, partnerWGI]\n",
       "Index: []"
      ]
     },
     "execution_count": 11,
     "metadata": {},
     "output_type": "execute_result"
    }
   ],
   "source": [
    "baci_data"
   ]
  },
  {
   "cell_type": "code",
   "execution_count": null,
   "metadata": {},
   "outputs": [],
   "source": [
    "from geopolrisk.assessment.core import importrisk\n",
    "\n",
    "Numerator, TotalTrade, Price = importrisk(\n",
    "    FirstMetal, FirstYear, [FirstCountry]\n",
    ")  # Country has to be in a list"
   ]
  },
  {
   "cell_type": "code",
   "execution_count": null,
   "metadata": {},
   "outputs": [],
   "source": [
    "from geopolrisk.assessment.core import GeoPolRisk\n",
    "\n",
    "\n",
    "Values = GeoPolRisk(Numerator, TotalTrade, Price, ProductionQuantity, hhi)"
   ]
  },
  {
   "cell_type": "markdown",
   "metadata": {},
   "source": [
    "# Testing company level functions using same data as above\n"
   ]
  },
  {
   "cell_type": "code",
   "execution_count": null,
   "metadata": {},
   "outputs": [],
   "source": [
    "from geopolrisk.assessment.core import importrisk_company\n",
    "\n",
    "Numerator_C, TotalTrade_C, Price_C = importrisk_company(FirstMetal, FirstYear)\n",
    "Values_c = GeoPolRisk(\n",
    "    Numerator_C, TotalTrade_C, Price_C, ProductionQuantity * 1000, hhi\n",
    ")"
   ]
  },
  {
   "cell_type": "markdown",
   "metadata": {},
   "source": [
    "# Testing Regional Data\n"
   ]
  },
  {
   "cell_type": "code",
   "execution_count": null,
   "metadata": {},
   "outputs": [],
   "source": [
    "NewRegions = {\n",
    "    \"EFTA\": [\"Iceland\", \"Norway\", \"Switzerland\"],\n",
    "    \"NAFTA\": [\"Canada\", \"Mexico\", \"USA\"],\n",
    "}  # Liechtenstein has a customs union with Switzerland whose trade is not reported by UN Comtrade"
   ]
  },
  {
   "cell_type": "code",
   "execution_count": null,
   "metadata": {},
   "outputs": [],
   "source": [
    "from geopolrisk.assessment.utils import regions\n",
    "\n",
    "regions(NewRegions)"
   ]
  },
  {
   "cell_type": "code",
   "execution_count": null,
   "metadata": {
    "scrolled": true
   },
   "outputs": [],
   "source": [
    "from geopolrisk.assessment.database import databases\n",
    "\n",
    "databases.regionslist"
   ]
  },
  {
   "cell_type": "code",
   "execution_count": null,
   "metadata": {},
   "outputs": [],
   "source": [
    "databases.regional"
   ]
  },
  {
   "cell_type": "markdown",
   "metadata": {},
   "source": [
    "## Main Function to run for the regional assessment\n"
   ]
  },
  {
   "cell_type": "code",
   "execution_count": null,
   "metadata": {
    "scrolled": false
   },
   "outputs": [],
   "source": [
    "ListofMetals = [\n",
    "    260400,\n",
    "    261000,\n",
    "    260300,\n",
    "    283691,\n",
    "    282200,\n",
    "]\n",
    "ListofCountries = [\n",
    "    36,\n",
    "    124,\n",
    "    251,\n",
    "    276,\n",
    "    392,\n",
    "    826,\n",
    "    842,\n",
    "    \"EU\",\n",
    "    \"EFTA\",\n",
    "    \"NAFTA\",\n",
    "]  # EU is already defined in the library\n",
    "ListofYear = [2018, 2019, 2020]\n",
    "gprs_calc(ListofYear, ListofCountries, ListofMetals)"
   ]
  },
  {
   "cell_type": "code",
   "execution_count": null,
   "metadata": {},
   "outputs": [],
   "source": []
  }
 ],
 "metadata": {
  "kernelspec": {
   "display_name": "base",
   "language": "python",
   "name": "python3"
  },
  "language_info": {
   "codemirror_mode": {
    "name": "ipython",
    "version": 3
   },
   "file_extension": ".py",
   "mimetype": "text/x-python",
   "name": "python",
   "nbconvert_exporter": "python",
   "pygments_lexer": "ipython3",
   "version": "3.11.4"
  }
 },
 "nbformat": 4,
 "nbformat_minor": 2
}
